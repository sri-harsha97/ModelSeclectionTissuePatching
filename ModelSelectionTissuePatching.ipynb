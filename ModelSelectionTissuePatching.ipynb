{
 "cells": [
  {
   "cell_type": "markdown",
   "id": "47912d97",
   "metadata": {},
   "source": [
    "# Case Study 1\n",
    "\n",
    "#### Model selection for Clustering\n",
    "\n",
    "Clustering is unsupervised learning: the resulting clusters are completely derived from data distributed in given a feature set with no class available\n",
    "\n",
    "Compared to supervised learning counterparts, it is …\n",
    "* hard to define model performance (cluster quality)\n",
    "* sensitive to different clustering algorithms and different feature spaces.\n",
    "\n",
    "\n",
    "\n",
    "#### Task\n",
    "Your task is to try different clustering algorithms and also a range of the potential parameter(s) which affect the number of clusters including ..\n",
    "\n",
    "* K-means\n",
    "https://scikit-learn.org/stable/modules/generated/sklearn.cluster.KMeans.html\n",
    "* Gaussian Mixture Model, \n",
    "https://scikit-learn.org/stable/modules/generated/sklearn.mixture.GaussianMixture.html#sklearn.mixture.GaussianMixture\n",
    "* Hierarchical Clustering, \n",
    "https://scikit-learn.org/stable/modules/generated/sklearn.cluster.AgglomerativeClustering.html#sklearn.cluster.AgglomerativeClustering\n",
    "* Louvain Clustering, \n",
    "https://scikit-network.readthedocs.io/en/latest/reference/clustering.html#module-sknetwork.clustering\n",
    "\n",
    "on 5K colorectal patches represented by 4 different representation PathologyGAN, ResNet50, InceptionV3 and VGG16\n",
    "\n",
    "\n",
    "#### Data and its preprocessing \n",
    "5,000 non-overlapping image patches from hematoxylin & eosin (H&E) stained histological images of human colorectal cancer (CRC) and normal tissue.\n",
    "* 4 feature sets, PathologyGAN, ResNet50, InceptionV3 and VGG16, are extracted to represent those 5,000 images different dimensional feature spaces.\n",
    "* PCA and UMAP were employed to reduce each feature sapce into 100-dimensional vectors\n",
    "\n",
    "* 9 tissue types are also available which include Adipose (ADI), background (BACK), debris (DEB), lymphocytes (LYM), mucus (MUC), smooth muscle (MUS), normal colon mucosa (NORM), cancer-associated stroma (STR), colorectal adenocarcinoma epithelium (TUM)\n",
    "\n",
    "\n",
    "#### Performance Measurement\n",
    "To assess quality of clustering solutions, several approaches are expected to be done and interpreted which include...\n",
    "* Silhouette Score for goodness of fit test\n",
    "* Vmeasure Score for homogeneity and completeness test (tissue type available as ground truth)\n",
    "* Clusters visualisations\n",
    "\n",
    "For more information, please have a check...\n",
    "https://scikit-learn.org/stable/modules/clustering.html#clustering-performance-evaluation\n",
    "\n",
    "\n",
    "#### Report\n",
    "Report on your preprocessing pipeline, theory and intuition behinds each algorithm and representation, parameter searching and performance evaluation frameworks. If there is any addiotional process, give evidences/justifications on how it helps."
   ]
  },
  {
   "cell_type": "markdown",
   "id": "471864da",
   "metadata": {},
   "source": [
    "#### Required Packages"
   ]
  },
  {
   "cell_type": "code",
   "execution_count": 1,
   "id": "4a765ad7",
   "metadata": {},
   "outputs": [],
   "source": [
    " #!pip install h5py==2.10.0\n",
    " #!pip install numpy\n",
    " #!pip install pandas\n",
    " #!pip install sklearn\n",
    " #!pip install scikit-network\n",
    " #!pip install pickle-mixin==1.0.2\n",
    " #!pip install matplotlib\n",
    " #!pip install plotly"
   ]
  },
  {
   "cell_type": "markdown",
   "id": "32997f36",
   "metadata": {},
   "source": [
    "### Prepare Tissue Representations"
   ]
  },
  {
   "cell_type": "code",
   "execution_count": 2,
   "id": "6054ea5d",
   "metadata": {},
   "outputs": [],
   "source": [
    "import h5py\n",
    "import numpy as np\n",
    "import pickle\n",
    "import pandas as pd"
   ]
  },
  {
   "cell_type": "code",
   "execution_count": 3,
   "id": "78025bc5",
   "metadata": {},
   "outputs": [],
   "source": [
    "pge_path = 'colon_nct_feature/pge_dim_reduced_feature.h5'\n",
    "resnet50_path = 'colon_nct_feature/resnet50_dim_reduced_feature.h5'\n",
    "inceptionv3_path = 'colon_nct_feature/inceptionv3_dim_reduced_feature.h5'\n",
    "vgg16_path = 'colon_nct_feature/vgg16_dim_reduced_feature.h5'\n",
    "\n",
    "pge_content = h5py.File(pge_path, mode='r')\n",
    "resnet50_content = h5py.File(resnet50_path, mode='r')\n",
    "inceptionv3_content = h5py.File(inceptionv3_path, mode='r')\n",
    "vgg16_content = h5py.File(vgg16_path, mode='r') "
   ]
  },
  {
   "cell_type": "code",
   "execution_count": 4,
   "id": "f583b66b",
   "metadata": {},
   "outputs": [],
   "source": [
    "#PCA feature from 4 feature sets: pge_latent, resnet50_latent, inceptionv3_latent, vgg16_latent\n",
    "pge_pca_feature  = pge_content['pca_feature'][...]\n",
    "resnet50_pca_feature  = resnet50_content['pca_feature'][...]\n",
    "inceptionv3_pca_feature = inceptionv3_content['pca_feature'][...]\n",
    "vgg16_pca_feature  = vgg16_content['pca_feature'][...]"
   ]
  },
  {
   "cell_type": "code",
   "execution_count": 5,
   "id": "62af6a2c",
   "metadata": {},
   "outputs": [],
   "source": [
    "#UMAP feature from 4 feature sets: pge_latent, resnet50_latent, inceptionv3_latent, vgg16_latent\n",
    "pge_umap_feature  = pge_content['umap_feature'][...]\n",
    "resnet50_umap_feature = resnet50_content['umap_feature'][...]\n",
    "inceptionv3_umap_feature  = inceptionv3_content['umap_feature'][...]\n",
    "vgg16_umap_feature  = vgg16_content['umap_feature'][...]"
   ]
  },
  {
   "cell_type": "code",
   "execution_count": 6,
   "id": "bd34257a",
   "metadata": {},
   "outputs": [
    {
     "name": "stdout",
     "output_type": "stream",
     "text": [
      "(5000,)\n",
      "(5000,)\n"
     ]
    }
   ],
   "source": [
    "#tissue type as available ground-truth: labels\n",
    "filename  = np.squeeze(pge_content['file_name'])\n",
    "labels = np.array([x.split('/')[2] for x in filename])\n",
    "print(filename.shape)\n",
    "print(labels.shape)"
   ]
  },
  {
   "cell_type": "markdown",
   "id": "1f9e0f4d",
   "metadata": {},
   "source": [
    "### For inception PCA Feature"
   ]
  },
  {
   "cell_type": "markdown",
   "id": "e460957b",
   "metadata": {},
   "source": [
    "#### importing required packages"
   ]
  },
  {
   "cell_type": "code",
   "execution_count": 7,
   "id": "549b17a1",
   "metadata": {},
   "outputs": [],
   "source": [
    "from sklearn.cluster import KMeans\n",
    "from sklearn.mixture import GaussianMixture\n",
    "from sklearn.cluster import AgglomerativeClustering\n",
    "from sknetwork.clustering import Louvain\n",
    "from sklearn.metrics import silhouette_score, v_measure_score"
   ]
  },
  {
   "cell_type": "code",
   "execution_count": 8,
   "id": "b24ac565",
   "metadata": {},
   "outputs": [],
   "source": [
    "from sklearn.metrics import pairwise_distances \n",
    "from sklearn.preprocessing import MinMaxScaler"
   ]
  },
  {
   "cell_type": "code",
   "execution_count": 9,
   "id": "20f2af71",
   "metadata": {},
   "outputs": [],
   "source": [
    "# Getting the index for the features\n",
    "selected_index = list(np.arange(len(inceptionv3_pca_feature)))"
   ]
  },
  {
   "cell_type": "code",
   "execution_count": 10,
   "id": "f1880f6e",
   "metadata": {},
   "outputs": [],
   "source": [
    "# getting the data and the labels from the selected index\n",
    "test_data_pca = inceptionv3_pca_feature[selected_index]\n",
    "test_label_pca = labels[selected_index]"
   ]
  },
  {
   "cell_type": "markdown",
   "id": "0b114e34",
   "metadata": {},
   "source": [
    "### Kmeans Clustering"
   ]
  },
  {
   "cell_type": "code",
   "execution_count": 11,
   "id": "afabde77",
   "metadata": {},
   "outputs": [
    {
     "name": "stdout",
     "output_type": "stream",
     "text": [
      "1 : 740043008.0\n",
      "2 : 514760160.0\n",
      "3 : 413353344.0\n",
      "4 : 351378304.0\n",
      "5 : 305539360.0\n",
      "6 : 278534208.0\n",
      "7 : 260084800.0\n",
      "8 : 242286352.0\n",
      "9 : 229569104.0\n",
      "10 : 220732592.0\n",
      "11 : 212181344.0\n",
      "12 : 204798656.0\n",
      "13 : 198986240.0\n",
      "14 : 193958816.0\n"
     ]
    },
    {
     "data": {
      "image/png": "[encoded data removed]",
      "text/plain": [
       "<Figure size 432x288 with 1 Axes>"
      ]
     },
     "metadata": {
      "needs_background": "light"
     },
     "output_type": "display_data"
    }
   ],
   "source": [
    "###Performing Elbow Curve for finding out number of clusters\n",
    "\n",
    "from scipy.spatial.distance import cdist\n",
    "from sklearn import metrics\n",
    "import sklearn\n",
    "import matplotlib.pyplot as plt\n",
    "\n",
    "inertias = []\n",
    "mapping = {}\n",
    "\n",
    "for i in range(1,15):\n",
    "    kmeans_model_pga_pca = KMeans(n_clusters = i, random_state = 0)\n",
    "    kmeans_assignment_pga_pca = kmeans_model_pga_pca.fit_predict(test_data_pca)\n",
    "    inertias.append(kmeans_model_pga_pca.inertia_)\n",
    "    mapping[i] = kmeans_model_pga_pca.inertia_\n",
    "\n",
    "for key, val in mapping.items():\n",
    "    print(f'{key} : {val}')\n",
    "\n",
    "# plotting the graph for elbow curve\n",
    "plt.plot(range(1,15), inertias, 'bx-')\n",
    "plt.xlabel('Values of i')\n",
    "plt.ylabel('inertia')\n",
    "plt.title('The Elbow Method using inertia')\n",
    "plt.show()\n"
   ]
  },
  {
   "cell_type": "markdown",
   "id": "2e3ffb95",
   "metadata": {},
   "source": [
    "#### Silhouette  and V-measure scores "
   ]
  },
  {
   "cell_type": "code",
   "execution_count": 12,
   "id": "c7ccc5a5",
   "metadata": {},
   "outputs": [
    {
     "name": "stdout",
     "output_type": "stream",
     "text": [
      "For cluster - 2 silhouette_score is 0.33123019337654114 \n",
      "For cluster - 3 silhouette_score is 0.2516070306301117 \n",
      "For cluster - 4 silhouette_score is 0.25799745321273804 \n",
      "For cluster - 5 silhouette_score is 0.24224114418029785 \n",
      "For cluster - 6 silhouette_score is 0.22632041573524475 \n",
      "For cluster - 7 silhouette_score is 0.22757118940353394 \n",
      "For cluster - 8 silhouette_score is 0.22510385513305664 \n",
      "For cluster - 9 silhouette_score is 0.2239283174276352 \n",
      "For cluster - 10 silhouette_score is 0.2121359407901764 \n",
      "For cluster - 11 silhouette_score is 0.20980261266231537 \n",
      "For cluster - 12 silhouette_score is 0.2038850039243698 \n",
      "For cluster - 13 silhouette_score is 0.20165972411632538 \n",
      "For cluster - 14 silhouette_score is 0.19482702016830444 \n"
     ]
    }
   ],
   "source": [
    "#Finding out silhouette scores for each cluster from 2 to 15\n",
    "cluster_range = list(range(2,15))\n",
    "for i in cluster_range:\n",
    "    kmeans_model = KMeans(n_clusters = i, random_state = 0) #GaussianMixture(), AgglomerativeClustering(), Louvain\n",
    "    kmeans_assignment = kmeans_model.fit_predict(test_data_pca)\n",
    "    kmeans_silhouette = silhouette_score(test_data_pca, kmeans_assignment)\n",
    "    kmeans_v_measure = v_measure_score(test_label_pca, kmeans_assignment)\n",
    "    print(\"For cluster - {0} silhouette_score is {1} \".format(i,kmeans_silhouette,kmeans_v_measure))\n",
    "    "
   ]
  },
  {
   "cell_type": "code",
   "execution_count": 13,
   "id": "e511b2b3",
   "metadata": {},
   "outputs": [],
   "source": [
    "#Perfroming Kmeans with cluster number is 4 from the elbow curve\n",
    "#considering 4 clusters instead of 5 since silhouette of 4 is higher.\n",
    "\n",
    "kmeans_model_pca = KMeans(n_clusters = 4, random_state = 0) \n",
    "kmeans_assignment_pca = kmeans_model_pca.fit_predict(test_data_pca)"
   ]
  },
  {
   "cell_type": "code",
   "execution_count": 14,
   "id": "a2cf8b6c",
   "metadata": {
    "scrolled": true
   },
   "outputs": [
    {
     "name": "stdout",
     "output_type": "stream",
     "text": [
      "0.28204291437379386\n"
     ]
    }
   ],
   "source": [
    "#Finding out V-measure for when number of clusters are 4\n",
    "kmeans_v_measure_pca = v_measure_score(test_label_pca, kmeans_assignment_pca)\n",
    "print(kmeans_v_measure_pca)"
   ]
  },
  {
   "cell_type": "markdown",
   "id": "1cfc179c",
   "metadata": {},
   "source": [
    "#### Hierarchical Clustering"
   ]
  },
  {
   "cell_type": "code",
   "execution_count": 15,
   "id": "d46786b4",
   "metadata": {},
   "outputs": [],
   "source": [
    "from scipy.cluster.hierarchy import linkage\n",
    "from scipy.cluster.hierarchy import dendrogram"
   ]
  },
  {
   "cell_type": "markdown",
   "id": "743bcdac",
   "metadata": {},
   "source": [
    "### Dendogram"
   ]
  },
  {
   "cell_type": "code",
   "execution_count": 16,
   "id": "c3b9f643",
   "metadata": {},
   "outputs": [
    {
     "data": {
      "image/png": "[encoded data removed]",
      "text/plain": [
       "<Figure size 1440x720 with 1 Axes>"
      ]
     },
     "metadata": {
      "needs_background": "light"
     },
     "output_type": "display_data"
    }
   ],
   "source": [
    "##Finding out optimum number of clusters using dendogram with metric eucldiean distance for formation of trees and cutting the line which gives 3 clusters\n",
    "plt.figure(figsize = (20,10))\n",
    "mergings = linkage(test_data_pca, method=\"ward\", metric='euclidean')\n",
    "dendrogram(mergings)\n",
    "plt.axhline(y=12500, c='g')\n",
    "plt.show()\n"
   ]
  },
  {
   "cell_type": "code",
   "execution_count": 17,
   "id": "ba57d51e",
   "metadata": {},
   "outputs": [],
   "source": [
    "#Performing Agglomerative clustering at 3 clusters\n",
    "Agg_model_pca = AgglomerativeClustering(n_clusters = 3, linkage = \"ward\")\n",
    "Agg_assignment_pca = Agg_model_pca.fit_predict(test_data_pca)"
   ]
  },
  {
   "cell_type": "code",
   "execution_count": 18,
   "id": "fcadb25b",
   "metadata": {},
   "outputs": [
    {
     "name": "stdout",
     "output_type": "stream",
     "text": [
      "0.2344323\n",
      "0.24185975572596613\n"
     ]
    }
   ],
   "source": [
    "hierarchical_silhouette = silhouette_score(test_data_pca, Agg_assignment_pca)\n",
    "hierarchical_v_measure = v_measure_score(test_label_pca, Agg_assignment_pca)\n",
    "print(hierarchical_silhouette)\n",
    "print(hierarchical_v_measure)"
   ]
  },
  {
   "cell_type": "markdown",
   "id": "28957a46",
   "metadata": {},
   "source": [
    "### For inception UMAP feature"
   ]
  },
  {
   "cell_type": "code",
   "execution_count": 19,
   "id": "dd605ecb",
   "metadata": {},
   "outputs": [],
   "source": [
    "# Getting the index for the features\n",
    "selected_index = list(np.arange(len(inceptionv3_umap_feature)))"
   ]
  },
  {
   "cell_type": "code",
   "execution_count": 20,
   "id": "85b0fe78",
   "metadata": {},
   "outputs": [],
   "source": [
    "# getting the data and the labels from the selected index\n",
    "test_data_umap = inceptionv3_umap_feature[selected_index]\n",
    "test_label_umap = labels[selected_index]"
   ]
  },
  {
   "cell_type": "markdown",
   "id": "85d7978a",
   "metadata": {},
   "source": [
    "### K means Clustering"
   ]
  },
  {
   "cell_type": "code",
   "execution_count": 21,
   "id": "91f2d9af",
   "metadata": {},
   "outputs": [
    {
     "name": "stdout",
     "output_type": "stream",
     "text": [
      "1 : 137793.671875\n",
      "2 : 91396.734375\n",
      "3 : 48783.34375\n",
      "4 : 26176.14453125\n",
      "5 : 20272.814453125\n",
      "6 : 15953.7978515625\n",
      "7 : 13280.578125\n",
      "8 : 11002.51171875\n",
      "9 : 9633.9091796875\n",
      "10 : 8476.9052734375\n",
      "11 : 7442.35888671875\n",
      "12 : 6580.75537109375\n",
      "13 : 5957.3662109375\n",
      "14 : 5406.11962890625\n"
     ]
    },
    {
     "data": {
      "image/png": "[encoded data removed]",
      "text/plain": [
       "<Figure size 432x288 with 1 Axes>"
      ]
     },
     "metadata": {
      "needs_background": "light"
     },
     "output_type": "display_data"
    }
   ],
   "source": [
    "###Performing Elbow Curve for finding out number of clusters\n",
    "\n",
    "inertias = []\n",
    "mapping = {}\n",
    "clusters=[]\n",
    "i = range(1,15)\n",
    "for i in range(1,15):\n",
    "\n",
    "    kmeans_model_pga_pca = KMeans(n_clusters = i, random_state = 0)\n",
    "    kmeans_assignment_pga_pca = kmeans_model_pga_pca.fit_predict(test_data_umap)\n",
    "    inertias.append(kmeans_model_pga_pca.inertia_)\n",
    "    mapping[i] = kmeans_model_pga_pca.inertia_\n",
    "\n",
    "\n",
    "\n",
    "for key, val in mapping.items():\n",
    "    print(f'{key} : {val}')\n",
    "\n",
    "# plotting the elbow curve\n",
    "plt.plot(range(1,15), inertias, 'bx-')\n",
    "plt.xlabel('Values of i')\n",
    "plt.ylabel('inertia')\n",
    "plt.title('The Elbow Method using inertia')\n",
    "plt.show()\n",
    "\n",
    "\n",
    "\n"
   ]
  },
  {
   "cell_type": "code",
   "execution_count": 22,
   "id": "5186cb04",
   "metadata": {},
   "outputs": [
    {
     "name": "stdout",
     "output_type": "stream",
     "text": [
      "For cluster - 2 silhouette_score is 0.6047378778457642\n",
      "For cluster - 3 silhouette_score is 0.4574568271636963\n",
      "For cluster - 4 silhouette_score is 0.5182051658630371\n",
      "For cluster - 5 silhouette_score is 0.4378841817378998\n",
      "For cluster - 6 silhouette_score is 0.4617019593715668\n",
      "For cluster - 7 silhouette_score is 0.46585169434547424\n",
      "For cluster - 8 silhouette_score is 0.4432564377784729\n",
      "For cluster - 9 silhouette_score is 0.4591228663921356\n",
      "For cluster - 10 silhouette_score is 0.4575258195400238\n",
      "For cluster - 11 silhouette_score is 0.4630686640739441\n",
      "For cluster - 12 silhouette_score is 0.4490527808666229\n",
      "For cluster - 13 silhouette_score is 0.4547741115093231\n",
      "For cluster - 14 silhouette_score is 0.456118643283844\n"
     ]
    }
   ],
   "source": [
    "#Finding out silhouette scores for each cluster from 2 to 15\n",
    "cluster_range = list(range(2,15))\n",
    "for i in cluster_range:\n",
    "    kmeans_model = KMeans(n_clusters = i, random_state = 0) #GaussianMixture(), AgglomerativeClustering(), Louvain\n",
    "    kmeans_assignment = kmeans_model.fit_predict(test_data_umap)\n",
    "    kmeans_silhouette = silhouette_score(test_data_umap, kmeans_assignment)\n",
    "    kmeans_v_measure = v_measure_score(test_label_umap, kmeans_assignment)\n",
    "    print(\"For cluster - {0} silhouette_score is {1}\".format(i,kmeans_silhouette,kmeans_v_measure))\n",
    "    "
   ]
  },
  {
   "cell_type": "markdown",
   "id": "1d6d64ab",
   "metadata": {},
   "source": [
    "#### Silhouette and V-measure scores"
   ]
  },
  {
   "cell_type": "code",
   "execution_count": 23,
   "id": "c87d5b85",
   "metadata": {},
   "outputs": [],
   "source": [
    "#Perfroming Kmeans with cluster number is 4 from the elbow curve\n",
    "\n",
    "kmeans_model_umap = KMeans(n_clusters = 4, random_state = 0) \n",
    "kmeans_assignment_umap = kmeans_model_umap.fit_predict(test_data_umap)"
   ]
  },
  {
   "cell_type": "code",
   "execution_count": 24,
   "id": "47c0f61f",
   "metadata": {},
   "outputs": [
    {
     "name": "stdout",
     "output_type": "stream",
     "text": [
      "0.3377578311025106\n"
     ]
    }
   ],
   "source": [
    "# Calculating the V measure\n",
    "kmeans_v_measure_umap = v_measure_score(test_label_umap, kmeans_assignment_umap)\n",
    "print(kmeans_v_measure_umap)"
   ]
  },
  {
   "cell_type": "markdown",
   "id": "0b18ccf8",
   "metadata": {},
   "source": [
    "### Hierarchical(Agglomerative Clustering)"
   ]
  },
  {
   "cell_type": "code",
   "execution_count": 25,
   "id": "0b8b4f18",
   "metadata": {},
   "outputs": [
    {
     "data": {
      "image/png": "[encoded data removed]",
      "text/plain": [
       "<Figure size 1440x720 with 1 Axes>"
      ]
     },
     "metadata": {
      "needs_background": "light"
     },
     "output_type": "display_data"
    }
   ],
   "source": [
    "# Dendogram\n",
    "\n",
    "plt.figure(figsize = (20,10))\n",
    "mergings = linkage(test_data_umap, method=\"ward\", metric='euclidean')\n",
    "dendrogram(mergings)\n",
    "plt.axhline(y = 180 , c = 'g')\n",
    "plt.show()"
   ]
  },
  {
   "cell_type": "code",
   "execution_count": 26,
   "id": "7fae386a",
   "metadata": {},
   "outputs": [],
   "source": [
    "# Model fitting for 4 clusters calculated from dendogram\n",
    "Agg_model_umap = AgglomerativeClustering(n_clusters = 4,linkage='ward')\n",
    "Agg_assignment_umap = Agg_model_umap.fit_predict(test_data_umap)"
   ]
  },
  {
   "cell_type": "code",
   "execution_count": 27,
   "id": "23a46dd1",
   "metadata": {},
   "outputs": [
    {
     "name": "stdout",
     "output_type": "stream",
     "text": [
      "0.5141981\n",
      "0.33223617076230727\n"
     ]
    }
   ],
   "source": [
    "# Silhouette and v-measure for 4 clusters\n",
    "hierarchical_silhouette = silhouette_score(test_data_umap, Agg_assignment_umap)\n",
    "hierarchical_v_measure = v_measure_score(test_label_umap, Agg_assignment_umap)\n",
    "print(hierarchical_silhouette)\n",
    "print(hierarchical_v_measure)"
   ]
  },
  {
   "cell_type": "markdown",
   "id": "93f156a9",
   "metadata": {},
   "source": [
    "### PGE CONTENT"
   ]
  },
  {
   "cell_type": "markdown",
   "id": "8d557d69",
   "metadata": {},
   "source": [
    "### For PGE PCA feature sets"
   ]
  },
  {
   "cell_type": "markdown",
   "id": "bab77bf3",
   "metadata": {},
   "source": [
    "Getting the data and labels from the feature"
   ]
  },
  {
   "cell_type": "code",
   "execution_count": 28,
   "id": "65f0ec49",
   "metadata": {},
   "outputs": [
    {
     "name": "stdout",
     "output_type": "stream",
     "text": [
      "(5000, 100)\n",
      "(5000,)\n"
     ]
    }
   ],
   "source": [
    "selected_index = list(np.arange(len(pge_pca_feature)))\n",
    "pga_pca_data = pge_pca_feature[selected_index]\n",
    "pga_pca_label = labels[selected_index]\n",
    "\n",
    "print(pga_pca_data.shape)\n",
    "print(pga_pca_label.shape)"
   ]
  },
  {
   "cell_type": "markdown",
   "id": "e4437f4f",
   "metadata": {},
   "source": [
    "#### K-Means Clustering"
   ]
  },
  {
   "cell_type": "code",
   "execution_count": 29,
   "id": "4a42632d",
   "metadata": {},
   "outputs": [
    {
     "name": "stdout",
     "output_type": "stream",
     "text": [
      "1 : 101035.640625\n",
      "2 : 71638.7890625\n",
      "3 : 62970.7890625\n",
      "4 : 58730.18359375\n",
      "5 : 55229.22265625\n",
      "6 : 52347.47265625\n",
      "7 : 50121.69140625\n",
      "8 : 48451.3046875\n",
      "9 : 46984.8828125\n",
      "10 : 45579.94921875\n",
      "11 : 44345.58984375\n",
      "12 : 43412.4921875\n",
      "13 : 42297.71484375\n",
      "14 : 41414.62890625\n",
      "15 : 40644.30859375\n"
     ]
    },
    {
     "data": {
      "image/png": "[encoded data removed]",
      "text/plain": [
       "<Figure size 432x288 with 1 Axes>"
      ]
     },
     "metadata": {
      "needs_background": "light"
     },
     "output_type": "display_data"
    }
   ],
   "source": [
    "# K-means clustering using elbow curve\n",
    "inertias = []\n",
    "inertiamapping = {}\n",
    "\n",
    "i = range(1,16)\n",
    "for i in range(1,16):\n",
    "    \n",
    "    kmeans_model_pga_pca = KMeans(n_clusters = i, random_state = 0)\n",
    "    kmeans_assignment_pga_pca = kmeans_model_pga_pca.fit_predict(pga_pca_data)\n",
    "    \n",
    "    inertias.append(kmeans_model_pga_pca.inertia_)\n",
    "    \n",
    "    inertiamapping[i] = kmeans_model_pga_pca.inertia_\n",
    "    \n",
    "\n",
    "for key, val in inertiamapping.items():\n",
    "    print(f'{key} : {val}')\n",
    "\n",
    "# plotting the graph for elbow curve\n",
    "plt.plot(range(1,16), inertias, 'bx-')\n",
    "plt.xlabel('Values of i')\n",
    "plt.ylabel('inertia')\n",
    "plt.title('The Elbow Method using inertia')\n",
    "plt.show()\n"
   ]
  },
  {
   "cell_type": "markdown",
   "id": "53d58cef",
   "metadata": {},
   "source": [
    "#### Silhoutte Scores and V-Measure"
   ]
  },
  {
   "cell_type": "code",
   "execution_count": 30,
   "id": "ebc19e90",
   "metadata": {},
   "outputs": [
    {
     "name": "stdout",
     "output_type": "stream",
     "text": [
      "For Cluster -  2  silhouette score is:  0.3077827\n",
      "For Cluster -  3  silhouette score is:  0.16621602\n",
      "For Cluster -  4  silhouette score is:  0.13885812\n",
      "For Cluster -  5  silhouette score is:  0.12939876\n",
      "For Cluster -  6  silhouette score is:  0.1371577\n",
      "For Cluster -  7  silhouette score is:  0.13784556\n",
      "For Cluster -  8  silhouette score is:  0.13913155\n",
      "For Cluster -  9  silhouette score is:  0.14220078\n",
      "For Cluster -  10  silhouette score is:  0.14571655\n"
     ]
    }
   ],
   "source": [
    "from sklearn.metrics import silhouette_score, v_measure_score\n",
    "for i in range(2,11):\n",
    "    kmeans_model_pga_pca = KMeans(n_clusters = i, random_state = 0)\n",
    "    kmeans_assignment_pga_pca1 = kmeans_model_pga_pca.fit_predict(pga_pca_data)\n",
    "    kmeans_silhouette_pga_pca=silhouette_score(pga_pca_data, kmeans_assignment_pga_pca1)\n",
    "    kmeans_v_measure_pga_pca=v_measure_score(pga_pca_label, kmeans_assignment_pga_pca1)\n",
    "    print('For Cluster - ',i,' silhouette score is: ',kmeans_silhouette_pga_pca)"
   ]
  },
  {
   "cell_type": "code",
   "execution_count": 31,
   "id": "c3fb3bb5",
   "metadata": {},
   "outputs": [
    {
     "name": "stdout",
     "output_type": "stream",
     "text": [
      "silhouette 0.16621602\n",
      "v-measure 0.29294306766637346\n"
     ]
    }
   ],
   "source": [
    "# Considering 3 clusters from elbvow and silhouette scores.\n",
    "\n",
    "kmeans_model_pga_pca = KMeans(n_clusters = 3, random_state = 0)\n",
    "kmeans_assignment_pga_pca_1 = kmeans_model_pga_pca.fit_predict(pga_pca_data)\n",
    "kmeans_silhouette_pga_pca=silhouette_score(pga_pca_data, kmeans_assignment_pga_pca_1)\n",
    "kmeans_v_measure_pga_pca=v_measure_score(pga_pca_label, kmeans_assignment_pga_pca_1)\n",
    "print('silhouette',kmeans_silhouette_pga_pca)\n",
    "print('v-measure',kmeans_v_measure_pga_pca)"
   ]
  },
  {
   "cell_type": "markdown",
   "id": "5d67a392",
   "metadata": {},
   "source": [
    "#### Hierarchical (Agglomerative) Clustering "
   ]
  },
  {
   "cell_type": "code",
   "execution_count": 32,
   "id": "294c3ffe",
   "metadata": {},
   "outputs": [
    {
     "data": {
      "image/png": "[encoded data removed]",
      "text/plain": [
       "<Figure size 432x288 with 1 Axes>"
      ]
     },
     "metadata": {
      "needs_background": "light"
     },
     "output_type": "display_data"
    }
   ],
   "source": [
    "# Dendogram for pge pca data\n",
    "\n",
    "import scipy.cluster.hierarchy as sch\n",
    "\n",
    "dendrogram = sch.dendrogram(sch.linkage(pga_pca_data, method  = \"ward\"))\n",
    "plt.title('Dendrogram')\n",
    "plt.xlabel('points')\n",
    "plt.ylabel('Euclidean distances')\n",
    "plt.axhline(linestyle='--', y=140)\n",
    "plt.show() "
   ]
  },
  {
   "cell_type": "code",
   "execution_count": 33,
   "id": "3eb3a092",
   "metadata": {},
   "outputs": [],
   "source": [
    "for i in range(2,16):\n",
    "    hierarchical_model_pga_pca = AgglomerativeClustering(n_clusters = i, affinity = 'euclidean', linkage ='ward')\n",
    "    hierarchical_assignment_pga_pca = hierarchical_model_pga_pca.fit_predict(pga_pca_data)"
   ]
  },
  {
   "cell_type": "code",
   "execution_count": 34,
   "id": "5a371d82",
   "metadata": {},
   "outputs": [
    {
     "data": {
      "text/html": [
       "<div>\n",
       "<style scoped>\n",
       "    .dataframe tbody tr th:only-of-type {\n",
       "        vertical-align: middle;\n",
       "    }\n",
       "\n",
       "    .dataframe tbody tr th {\n",
       "        vertical-align: top;\n",
       "    }\n",
       "\n",
       "    .dataframe thead th {\n",
       "        text-align: right;\n",
       "    }\n",
       "</style>\n",
       "<table border=\"1\" class=\"dataframe\">\n",
       "  <thead>\n",
       "    <tr style=\"text-align: right;\">\n",
       "      <th></th>\n",
       "      <th>Hierarchaical</th>\n",
       "    </tr>\n",
       "    <tr>\n",
       "      <th>Metrics</th>\n",
       "      <th></th>\n",
       "    </tr>\n",
       "  </thead>\n",
       "  <tbody>\n",
       "    <tr>\n",
       "      <th>silhouette</th>\n",
       "      <td>0.137688</td>\n",
       "    </tr>\n",
       "    <tr>\n",
       "      <th>V-measure</th>\n",
       "      <td>0.220583</td>\n",
       "    </tr>\n",
       "  </tbody>\n",
       "</table>\n",
       "</div>"
      ],
      "text/plain": [
       "            Hierarchaical\n",
       "Metrics                  \n",
       "silhouette       0.137688\n",
       "V-measure        0.220583"
      ]
     },
     "execution_count": 34,
     "metadata": {},
     "output_type": "execute_result"
    }
   ],
   "source": [
    "#Calculating the silhouette and v-measure \n",
    "\n",
    "hierarchical_model_pga_pca = AgglomerativeClustering(n_clusters =3 , affinity = 'euclidean', linkage ='ward')\n",
    "hierarchical_assignment_pga_pca_1 = hierarchical_model_pga_pca.fit_predict(pga_pca_data)\n",
    "\n",
    "hierarchical_silhouette_pga_pca = silhouette_score(pga_pca_data, hierarchical_assignment_pga_pca_1)\n",
    "hierarchical_v_measure_pga_pca = v_measure_score(pga_pca_label, hierarchical_assignment_pga_pca_1)\n",
    "\n",
    "pd.DataFrame({'Metrics': ['silhouette', 'V-measure'], 'Hierarchaical': [hierarchical_silhouette_pga_pca, hierarchical_v_measure_pga_pca]}).set_index('Metrics')"
   ]
  },
  {
   "cell_type": "markdown",
   "id": "d60d021d",
   "metadata": {},
   "source": [
    "### For PGE UMAP feature sets"
   ]
  },
  {
   "cell_type": "markdown",
   "id": "c91d86a8",
   "metadata": {},
   "source": [
    "#### K-Means Clustering"
   ]
  },
  {
   "cell_type": "code",
   "execution_count": 35,
   "id": "e9c0c99c",
   "metadata": {},
   "outputs": [],
   "source": [
    "selected_index = list(np.arange(len(pge_umap_feature)))\n",
    "pga_umap_data = pge_umap_feature[selected_index]\n",
    "pga_umap_label = labels[selected_index]"
   ]
  },
  {
   "cell_type": "code",
   "execution_count": 36,
   "id": "f62507d6",
   "metadata": {},
   "outputs": [
    {
     "name": "stdout",
     "output_type": "stream",
     "text": [
      "1 : 164243.265625\n",
      "2 : 112422.1953125\n",
      "3 : 68757.0703125\n",
      "4 : 48758.3671875\n",
      "5 : 33622.8203125\n",
      "6 : 22904.005859375\n",
      "7 : 16301.9580078125\n",
      "8 : 12302.1259765625\n",
      "9 : 10127.42578125\n",
      "10 : 8341.8681640625\n",
      "11 : 7075.7587890625\n",
      "12 : 6019.6982421875\n",
      "13 : 5489.396484375\n",
      "14 : 4881.21728515625\n"
     ]
    },
    {
     "data": {
      "image/png": "[encoded data removed]",
      "text/plain": [
       "<Figure size 432x288 with 1 Axes>"
      ]
     },
     "metadata": {
      "needs_background": "light"
     },
     "output_type": "display_data"
    }
   ],
   "source": [
    "# Calculating the Kmeans using elbow method\n",
    "\n",
    "inertias = []\n",
    "inertiamapping2 = {}\n",
    "i = range(1,15)\n",
    "for i in range(1,15):\n",
    "    \n",
    "    kmeans_model_pga_umap = KMeans(n_clusters = i, random_state = 0)\n",
    "    kmeans_assignment_pga_umap = kmeans_model_pga_umap.fit_predict(pga_umap_data)\n",
    "    inertias.append(kmeans_model_pga_umap.inertia_)\n",
    "    inertiamapping2[i] = kmeans_model_pga_umap.inertia_\n",
    "    \n",
    "\n",
    "for key, val in inertiamapping2.items():\n",
    "    print(f'{key} : {val}')\n",
    "\n",
    "#Plotting the elbow curve\n",
    "plt.plot(range(1,15), inertias, 'bx-')\n",
    "plt.xlabel('Values of i')\n",
    "plt.ylabel('inertia')\n",
    "plt.title('The Elbow Method using inertia')\n",
    "plt.show()\n",
    "\n",
    "    "
   ]
  },
  {
   "cell_type": "markdown",
   "id": "588e83bd",
   "metadata": {},
   "source": [
    "#### Silhouette and V-measure"
   ]
  },
  {
   "cell_type": "code",
   "execution_count": 37,
   "id": "579b145b",
   "metadata": {},
   "outputs": [
    {
     "name": "stdout",
     "output_type": "stream",
     "text": [
      "For Cluster -  2  silhouette score is:  0.41184482\n",
      "For Cluster -  3  silhouette score is:  0.48857954\n",
      "For Cluster -  4  silhouette score is:  0.5153348\n",
      "For Cluster -  5  silhouette score is:  0.55324054\n",
      "For Cluster -  6  silhouette score is:  0.5880003\n",
      "For Cluster -  7  silhouette score is:  0.6156872\n",
      "For Cluster -  8  silhouette score is:  0.54528713\n",
      "For Cluster -  9  silhouette score is:  0.53081495\n",
      "For Cluster -  10  silhouette score is:  0.5296201\n"
     ]
    }
   ],
   "source": [
    "for i in range(2,11):\n",
    "    kmeans_model_pga_umap = KMeans(n_clusters = i, random_state = 0)\n",
    "    kmeans_assignment_pga_umap = kmeans_model_pga_umap.fit_predict(pga_umap_data)\n",
    "    kmeans_silhouette_pga_umap=silhouette_score(pga_umap_data, kmeans_assignment_pga_umap)\n",
    "    kmeans_v_measure_pga_umap=v_measure_score(pga_umap_label, kmeans_assignment_pga_umap)\n",
    "    print('For Cluster - ',i,' silhouette score is: ',kmeans_silhouette_pga_umap)"
   ]
  },
  {
   "cell_type": "code",
   "execution_count": 38,
   "id": "84eb4cb4",
   "metadata": {},
   "outputs": [
    {
     "name": "stdout",
     "output_type": "stream",
     "text": [
      "silhouette 0.55324054\n",
      "v-measure 0.4792589387065739\n"
     ]
    }
   ],
   "source": [
    "#Considering 5 clusters based on elbow and silhouette\n",
    "\n",
    "kmeans_model_pga_umap = KMeans(n_clusters = 5, random_state = 0)\n",
    "kmeans_assignment_pga_umap_1 = kmeans_model_pga_umap.fit_predict(pga_umap_data)\n",
    "kmeans_silhouette_pga_umap=silhouette_score(pga_umap_data, kmeans_assignment_pga_umap_1)\n",
    "kmeans_v_measure_pga_umap=v_measure_score(pga_umap_label, kmeans_assignment_pga_umap_1)\n",
    "print('silhouette',kmeans_silhouette_pga_umap)\n",
    "print('v-measure',kmeans_v_measure_pga_umap)"
   ]
  },
  {
   "cell_type": "markdown",
   "id": "480a5256",
   "metadata": {},
   "source": [
    "#### Hierachical (Agglomerative) Clustering"
   ]
  },
  {
   "cell_type": "code",
   "execution_count": 39,
   "id": "7fa022d4",
   "metadata": {},
   "outputs": [
    {
     "data": {
      "image/png": "[encoded data removed]",
      "text/plain": [
       "<Figure size 432x288 with 1 Axes>"
      ]
     },
     "metadata": {
      "needs_background": "light"
     },
     "output_type": "display_data"
    }
   ],
   "source": [
    "# Dendogram for Umap data\n",
    "\n",
    "dendrogram = sch.dendrogram(sch.linkage(pga_umap_data, method  = \"ward\"))\n",
    "plt.title('Dendrogram')\n",
    "plt.xlabel('points')\n",
    "plt.ylabel('Euclidean distances')\n",
    "plt.axhline(linestyle='--', y=160)\n",
    "plt.show()"
   ]
  },
  {
   "cell_type": "code",
   "execution_count": 40,
   "id": "6fd2af81",
   "metadata": {},
   "outputs": [],
   "source": [
    "for i in range(2,16):\n",
    "    hierarchical_model_pga_umap = AgglomerativeClustering(n_clusters = i, affinity = 'euclidean', linkage ='ward')\n",
    "    hierarchical_assignment_pga_umap = hierarchical_model_pga_umap.fit_predict(pga_umap_data)"
   ]
  },
  {
   "cell_type": "code",
   "execution_count": 41,
   "id": "e0ab78a9",
   "metadata": {},
   "outputs": [
    {
     "data": {
      "text/html": [
       "<div>\n",
       "<style scoped>\n",
       "    .dataframe tbody tr th:only-of-type {\n",
       "        vertical-align: middle;\n",
       "    }\n",
       "\n",
       "    .dataframe tbody tr th {\n",
       "        vertical-align: top;\n",
       "    }\n",
       "\n",
       "    .dataframe thead th {\n",
       "        text-align: right;\n",
       "    }\n",
       "</style>\n",
       "<table border=\"1\" class=\"dataframe\">\n",
       "  <thead>\n",
       "    <tr style=\"text-align: right;\">\n",
       "      <th></th>\n",
       "      <th>Hierarchaical</th>\n",
       "    </tr>\n",
       "    <tr>\n",
       "      <th>Metrics</th>\n",
       "      <th></th>\n",
       "    </tr>\n",
       "  </thead>\n",
       "  <tbody>\n",
       "    <tr>\n",
       "      <th>silhouette</th>\n",
       "      <td>0.553102</td>\n",
       "    </tr>\n",
       "    <tr>\n",
       "      <th>V-measure</th>\n",
       "      <td>0.480297</td>\n",
       "    </tr>\n",
       "  </tbody>\n",
       "</table>\n",
       "</div>"
      ],
      "text/plain": [
       "            Hierarchaical\n",
       "Metrics                  \n",
       "silhouette       0.553102\n",
       "V-measure        0.480297"
      ]
     },
     "execution_count": 41,
     "metadata": {},
     "output_type": "execute_result"
    }
   ],
   "source": [
    "# Calculating silhouette and v-measure for 5 clusters based on dendogram\n",
    "\n",
    "hierarchical_model_pga_umap = AgglomerativeClustering(n_clusters =5 , affinity = 'euclidean', linkage ='ward')\n",
    "hierarchical_assignment_pga_umap_1 = hierarchical_model_pga_umap.fit_predict(pga_umap_data)\n",
    "\n",
    "hierarchical_silhouette_pga_umap = silhouette_score(pga_umap_data, hierarchical_assignment_pga_umap_1)\n",
    "hierarchical_v_measure_pga_umap = v_measure_score(pga_umap_label, hierarchical_assignment_pga_umap_1)\n",
    "\n",
    "pd.DataFrame({'Metrics': ['silhouette', 'V-measure'], 'Hierarchaical': [hierarchical_silhouette_pga_umap, hierarchical_v_measure_pga_umap]}).set_index('Metrics')"
   ]
  },
  {
   "cell_type": "markdown",
   "id": "378e0332",
   "metadata": {},
   "source": [
    "### Evaluation and Visualization"
   ]
  },
  {
   "cell_type": "code",
   "execution_count": 42,
   "id": "1f7f2b50",
   "metadata": {},
   "outputs": [],
   "source": [
    "import matplotlib.pyplot as plt\n",
    "from sklearn.metrics import silhouette_score, v_measure_score\n",
    "from sklearn.model_selection import KFold, train_test_split"
   ]
  },
  {
   "cell_type": "markdown",
   "id": "a8dc07d4",
   "metadata": {},
   "source": [
    "#### PathologyGAN"
   ]
  },
  {
   "cell_type": "code",
   "execution_count": 43,
   "id": "c9a66831",
   "metadata": {
    "scrolled": true
   },
   "outputs": [
    {
     "name": "stdout",
     "output_type": "stream",
     "text": [
      "Number of clusters for PCA reduction in PathologyGAN from KMeans: 3 and from Hierarchical: 3\n"
     ]
    }
   ],
   "source": [
    "print('Number of clusters for PCA reduction in PathologyGAN from KMeans: %d and from Hierarchical: %d'%(np.unique(kmeans_assignment_pga_pca_1).shape[0],np.unique(hierarchical_assignment_pga_pca_1).shape[0]))"
   ]
  },
  {
   "cell_type": "code",
   "execution_count": 44,
   "id": "21e618a6",
   "metadata": {},
   "outputs": [
    {
     "name": "stdout",
     "output_type": "stream",
     "text": [
      "Number of clusters for UMAP reduction in PathologyGAN from KMeans: 5 and from Hierarchical: 5\n"
     ]
    }
   ],
   "source": [
    "print('Number of clusters for UMAP reduction in PathologyGAN from KMeans: %d and from Hierarchical: %d'%(np.unique(kmeans_assignment_pga_umap_1).shape[0],np.unique(hierarchical_assignment_pga_umap_1).shape[0]))"
   ]
  },
  {
   "cell_type": "markdown",
   "id": "55795138",
   "metadata": {},
   "source": [
    "#### PGE PCA Evaluations:"
   ]
  },
  {
   "cell_type": "code",
   "execution_count": 45,
   "id": "735f5494",
   "metadata": {},
   "outputs": [],
   "source": [
    "kmeans_pca_counts = np.unique(kmeans_assignment_pga_pca_1, return_counts = True)\n",
    "hierarchical_pca_counts = np.unique(hierarchical_assignment_pga_pca_1, return_counts = True)"
   ]
  },
  {
   "cell_type": "code",
   "execution_count": 46,
   "id": "6f608c05",
   "metadata": {},
   "outputs": [
    {
     "name": "stdout",
     "output_type": "stream",
     "text": [
      "Kmeans assignment counts\n"
     ]
    },
    {
     "data": {
      "text/html": [
       "<div>\n",
       "<style scoped>\n",
       "    .dataframe tbody tr th:only-of-type {\n",
       "        vertical-align: middle;\n",
       "    }\n",
       "\n",
       "    .dataframe tbody tr th {\n",
       "        vertical-align: top;\n",
       "    }\n",
       "\n",
       "    .dataframe thead th {\n",
       "        text-align: right;\n",
       "    }\n",
       "</style>\n",
       "<table border=\"1\" class=\"dataframe\">\n",
       "  <thead>\n",
       "    <tr style=\"text-align: right;\">\n",
       "      <th></th>\n",
       "      <th>Number of members</th>\n",
       "    </tr>\n",
       "    <tr>\n",
       "      <th>Cluster Index</th>\n",
       "      <th></th>\n",
       "    </tr>\n",
       "  </thead>\n",
       "  <tbody>\n",
       "    <tr>\n",
       "      <th>0</th>\n",
       "      <td>2197</td>\n",
       "    </tr>\n",
       "    <tr>\n",
       "      <th>1</th>\n",
       "      <td>1704</td>\n",
       "    </tr>\n",
       "    <tr>\n",
       "      <th>2</th>\n",
       "      <td>1099</td>\n",
       "    </tr>\n",
       "  </tbody>\n",
       "</table>\n",
       "</div>"
      ],
      "text/plain": [
       "               Number of members\n",
       "Cluster Index                   \n",
       "0                           2197\n",
       "1                           1704\n",
       "2                           1099"
      ]
     },
     "execution_count": 46,
     "metadata": {},
     "output_type": "execute_result"
    }
   ],
   "source": [
    "print('Kmeans assignment counts')\n",
    "pd.DataFrame({'Cluster Index': kmeans_pca_counts[0], 'Number of members':kmeans_pca_counts[1]}).set_index('Cluster Index')"
   ]
  },
  {
   "cell_type": "code",
   "execution_count": 47,
   "id": "91c38a34",
   "metadata": {},
   "outputs": [
    {
     "name": "stdout",
     "output_type": "stream",
     "text": [
      "Hierarchical assignment counts\n"
     ]
    },
    {
     "data": {
      "text/html": [
       "<div>\n",
       "<style scoped>\n",
       "    .dataframe tbody tr th:only-of-type {\n",
       "        vertical-align: middle;\n",
       "    }\n",
       "\n",
       "    .dataframe tbody tr th {\n",
       "        vertical-align: top;\n",
       "    }\n",
       "\n",
       "    .dataframe thead th {\n",
       "        text-align: right;\n",
       "    }\n",
       "</style>\n",
       "<table border=\"1\" class=\"dataframe\">\n",
       "  <thead>\n",
       "    <tr style=\"text-align: right;\">\n",
       "      <th></th>\n",
       "      <th>Number of members</th>\n",
       "    </tr>\n",
       "    <tr>\n",
       "      <th>Cluster Index</th>\n",
       "      <th></th>\n",
       "    </tr>\n",
       "  </thead>\n",
       "  <tbody>\n",
       "    <tr>\n",
       "      <th>0</th>\n",
       "      <td>2865</td>\n",
       "    </tr>\n",
       "    <tr>\n",
       "      <th>1</th>\n",
       "      <td>799</td>\n",
       "    </tr>\n",
       "    <tr>\n",
       "      <th>2</th>\n",
       "      <td>1336</td>\n",
       "    </tr>\n",
       "  </tbody>\n",
       "</table>\n",
       "</div>"
      ],
      "text/plain": [
       "               Number of members\n",
       "Cluster Index                   \n",
       "0                           2865\n",
       "1                            799\n",
       "2                           1336"
      ]
     },
     "execution_count": 47,
     "metadata": {},
     "output_type": "execute_result"
    }
   ],
   "source": [
    "print('Hierarchical assignment counts')\n",
    "pd.DataFrame({'Cluster Index': hierarchical_pca_counts[0], 'Number of members':hierarchical_pca_counts[1]}).set_index('Cluster Index')"
   ]
  },
  {
   "cell_type": "markdown",
   "id": "b51d81f8",
   "metadata": {},
   "source": [
    "#### PGE UMAP Evaluations"
   ]
  },
  {
   "cell_type": "code",
   "execution_count": 48,
   "id": "ce6122fd",
   "metadata": {},
   "outputs": [],
   "source": [
    "kmeans_umap_counts = np.unique(kmeans_assignment_pga_umap_1, return_counts = True)\n",
    "hierarchical_umap_counts = np.unique(hierarchical_assignment_pga_umap_1, return_counts = True)"
   ]
  },
  {
   "cell_type": "code",
   "execution_count": 49,
   "id": "aebd4e1d",
   "metadata": {},
   "outputs": [
    {
     "name": "stdout",
     "output_type": "stream",
     "text": [
      "Kmeans assignment counts\n"
     ]
    },
    {
     "data": {
      "text/html": [
       "<div>\n",
       "<style scoped>\n",
       "    .dataframe tbody tr th:only-of-type {\n",
       "        vertical-align: middle;\n",
       "    }\n",
       "\n",
       "    .dataframe tbody tr th {\n",
       "        vertical-align: top;\n",
       "    }\n",
       "\n",
       "    .dataframe thead th {\n",
       "        text-align: right;\n",
       "    }\n",
       "</style>\n",
       "<table border=\"1\" class=\"dataframe\">\n",
       "  <thead>\n",
       "    <tr style=\"text-align: right;\">\n",
       "      <th></th>\n",
       "      <th>Number of members</th>\n",
       "    </tr>\n",
       "    <tr>\n",
       "      <th>Cluster Index</th>\n",
       "      <th></th>\n",
       "    </tr>\n",
       "  </thead>\n",
       "  <tbody>\n",
       "    <tr>\n",
       "      <th>0</th>\n",
       "      <td>2218</td>\n",
       "    </tr>\n",
       "    <tr>\n",
       "      <th>1</th>\n",
       "      <td>557</td>\n",
       "    </tr>\n",
       "    <tr>\n",
       "      <th>2</th>\n",
       "      <td>386</td>\n",
       "    </tr>\n",
       "    <tr>\n",
       "      <th>3</th>\n",
       "      <td>618</td>\n",
       "    </tr>\n",
       "    <tr>\n",
       "      <th>4</th>\n",
       "      <td>1221</td>\n",
       "    </tr>\n",
       "  </tbody>\n",
       "</table>\n",
       "</div>"
      ],
      "text/plain": [
       "               Number of members\n",
       "Cluster Index                   \n",
       "0                           2218\n",
       "1                            557\n",
       "2                            386\n",
       "3                            618\n",
       "4                           1221"
      ]
     },
     "execution_count": 49,
     "metadata": {},
     "output_type": "execute_result"
    }
   ],
   "source": [
    "print('Kmeans assignment counts')\n",
    "pd.DataFrame({'Cluster Index': kmeans_umap_counts[0], 'Number of members':kmeans_umap_counts[1]}).set_index('Cluster Index')"
   ]
  },
  {
   "cell_type": "code",
   "execution_count": 50,
   "id": "a2c0cce3",
   "metadata": {},
   "outputs": [
    {
     "name": "stdout",
     "output_type": "stream",
     "text": [
      "Hierarchical assignment counts\n"
     ]
    },
    {
     "data": {
      "text/html": [
       "<div>\n",
       "<style scoped>\n",
       "    .dataframe tbody tr th:only-of-type {\n",
       "        vertical-align: middle;\n",
       "    }\n",
       "\n",
       "    .dataframe tbody tr th {\n",
       "        vertical-align: top;\n",
       "    }\n",
       "\n",
       "    .dataframe thead th {\n",
       "        text-align: right;\n",
       "    }\n",
       "</style>\n",
       "<table border=\"1\" class=\"dataframe\">\n",
       "  <thead>\n",
       "    <tr style=\"text-align: right;\">\n",
       "      <th></th>\n",
       "      <th>Number of members</th>\n",
       "    </tr>\n",
       "    <tr>\n",
       "      <th>Cluster Index</th>\n",
       "      <th></th>\n",
       "    </tr>\n",
       "  </thead>\n",
       "  <tbody>\n",
       "    <tr>\n",
       "      <th>0</th>\n",
       "      <td>1201</td>\n",
       "    </tr>\n",
       "    <tr>\n",
       "      <th>1</th>\n",
       "      <td>2249</td>\n",
       "    </tr>\n",
       "    <tr>\n",
       "      <th>2</th>\n",
       "      <td>386</td>\n",
       "    </tr>\n",
       "    <tr>\n",
       "      <th>3</th>\n",
       "      <td>613</td>\n",
       "    </tr>\n",
       "    <tr>\n",
       "      <th>4</th>\n",
       "      <td>551</td>\n",
       "    </tr>\n",
       "  </tbody>\n",
       "</table>\n",
       "</div>"
      ],
      "text/plain": [
       "               Number of members\n",
       "Cluster Index                   \n",
       "0                           1201\n",
       "1                           2249\n",
       "2                            386\n",
       "3                            613\n",
       "4                            551"
      ]
     },
     "execution_count": 50,
     "metadata": {},
     "output_type": "execute_result"
    }
   ],
   "source": [
    "print('Hierarchical assignment counts')\n",
    "pd.DataFrame({'Cluster Index': hierarchical_umap_counts[0], 'Number of members':hierarchical_umap_counts[1]}).set_index('Cluster Index')"
   ]
  },
  {
   "cell_type": "markdown",
   "id": "9dbfec60",
   "metadata": {},
   "source": [
    "* Assess goodness of fit by silhouette score and cluster homogeneities by V-measure"
   ]
  },
  {
   "cell_type": "code",
   "execution_count": 51,
   "id": "7cb23bcf",
   "metadata": {},
   "outputs": [
    {
     "name": "stdout",
     "output_type": "stream",
     "text": [
      "Evaluations for PathologyGAN\n"
     ]
    },
    {
     "data": {
      "text/html": [
       "<div>\n",
       "<style scoped>\n",
       "    .dataframe tbody tr th:only-of-type {\n",
       "        vertical-align: middle;\n",
       "    }\n",
       "\n",
       "    .dataframe tbody tr th {\n",
       "        vertical-align: top;\n",
       "    }\n",
       "\n",
       "    .dataframe thead th {\n",
       "        text-align: right;\n",
       "    }\n",
       "</style>\n",
       "<table border=\"1\" class=\"dataframe\">\n",
       "  <thead>\n",
       "    <tr style=\"text-align: right;\">\n",
       "      <th></th>\n",
       "      <th>Kmeans PCA</th>\n",
       "      <th>Heirarchical PCA</th>\n",
       "      <th>Kmeans UMAP</th>\n",
       "      <th>Heirarchical UMAP</th>\n",
       "    </tr>\n",
       "    <tr>\n",
       "      <th>Metrics</th>\n",
       "      <th></th>\n",
       "      <th></th>\n",
       "      <th></th>\n",
       "      <th></th>\n",
       "    </tr>\n",
       "  </thead>\n",
       "  <tbody>\n",
       "    <tr>\n",
       "      <th>silhouette</th>\n",
       "      <td>0.166216</td>\n",
       "      <td>0.137688</td>\n",
       "      <td>0.553241</td>\n",
       "      <td>0.553102</td>\n",
       "    </tr>\n",
       "    <tr>\n",
       "      <th>V-measure</th>\n",
       "      <td>0.292943</td>\n",
       "      <td>0.220583</td>\n",
       "      <td>0.479259</td>\n",
       "      <td>0.480297</td>\n",
       "    </tr>\n",
       "  </tbody>\n",
       "</table>\n",
       "</div>"
      ],
      "text/plain": [
       "            Kmeans PCA  Heirarchical PCA  Kmeans UMAP  Heirarchical UMAP\n",
       "Metrics                                                                 \n",
       "silhouette    0.166216          0.137688     0.553241           0.553102\n",
       "V-measure     0.292943          0.220583     0.479259           0.480297"
      ]
     },
     "execution_count": 51,
     "metadata": {},
     "output_type": "execute_result"
    }
   ],
   "source": [
    "kmeans_pca_silhouette = silhouette_score(pga_pca_data, kmeans_assignment_pga_pca_1)\n",
    "heirarchical_pca_silhouette = silhouette_score(pga_pca_data, hierarchical_assignment_pga_pca_1)\n",
    "kmeans_pca_v_measure = v_measure_score(pga_pca_label, kmeans_assignment_pga_pca_1)\n",
    "heirarchical_pca_v_measure = v_measure_score(pga_pca_label, hierarchical_assignment_pga_pca_1)\n",
    "\n",
    "kmeans_umap_silhouette = silhouette_score(pga_umap_data, kmeans_assignment_pga_umap_1)\n",
    "heirarchical_umap_silhouette = silhouette_score(pga_umap_data, hierarchical_assignment_pga_umap_1)\n",
    "kmeans_umap_v_measure = v_measure_score(pga_umap_label, kmeans_assignment_pga_umap_1)\n",
    "heirarchical_umap_v_measure = v_measure_score(pga_umap_label, hierarchical_assignment_pga_umap_1)\n",
    "\n",
    "print('Evaluations for PathologyGAN')\n",
    "pd.DataFrame({'Metrics': ['silhouette', 'V-measure'], 'Kmeans PCA': [kmeans_pca_silhouette, kmeans_pca_v_measure], 'Heirarchical PCA':[heirarchical_pca_silhouette, heirarchical_pca_v_measure], 'Kmeans UMAP':[kmeans_umap_silhouette, kmeans_umap_v_measure], 'Heirarchical UMAP':[heirarchical_umap_silhouette, heirarchical_umap_v_measure], }).set_index('Metrics')"
   ]
  },
  {
   "cell_type": "markdown",
   "id": "314044f9",
   "metadata": {},
   "source": [
    "### InceptionV3 "
   ]
  },
  {
   "cell_type": "code",
   "execution_count": 52,
   "id": "6d134324",
   "metadata": {},
   "outputs": [
    {
     "name": "stdout",
     "output_type": "stream",
     "text": [
      "Number of clusters for PCA reduction in InceptionV3 from KMeans: 4 and from Hierarchical: 3\n"
     ]
    }
   ],
   "source": [
    "print('Number of clusters for PCA reduction in InceptionV3 from KMeans: %d and from Hierarchical: %d'%(np.unique(kmeans_assignment_pca).shape[0],np.unique(Agg_assignment_pca).shape[0]))"
   ]
  },
  {
   "cell_type": "code",
   "execution_count": 53,
   "id": "78766630",
   "metadata": {},
   "outputs": [
    {
     "name": "stdout",
     "output_type": "stream",
     "text": [
      "Number of clusters for UMAP reduction in InceptionV3 from KMeans: 4 and from Hierarchical: 4\n"
     ]
    }
   ],
   "source": [
    "print('Number of clusters for UMAP reduction in InceptionV3 from KMeans: %d and from Hierarchical: %d'%(np.unique(kmeans_assignment_umap).shape[0],np.unique(Agg_assignment_umap).shape[0]))"
   ]
  },
  {
   "cell_type": "markdown",
   "id": "01b6791b",
   "metadata": {},
   "source": [
    "#### InceptionV3 PCA Evaluations"
   ]
  },
  {
   "cell_type": "code",
   "execution_count": 54,
   "id": "e121ee52",
   "metadata": {},
   "outputs": [],
   "source": [
    "kmeans_pca_counts = np.unique(kmeans_assignment_pca, return_counts = True)\n",
    "hierarchical_pca_counts = np.unique(Agg_assignment_pca, return_counts = True)"
   ]
  },
  {
   "cell_type": "code",
   "execution_count": 55,
   "id": "8dda8ee4",
   "metadata": {},
   "outputs": [
    {
     "name": "stdout",
     "output_type": "stream",
     "text": [
      "Kmeans assignment counts\n"
     ]
    },
    {
     "data": {
      "text/html": [
       "<div>\n",
       "<style scoped>\n",
       "    .dataframe tbody tr th:only-of-type {\n",
       "        vertical-align: middle;\n",
       "    }\n",
       "\n",
       "    .dataframe tbody tr th {\n",
       "        vertical-align: top;\n",
       "    }\n",
       "\n",
       "    .dataframe thead th {\n",
       "        text-align: right;\n",
       "    }\n",
       "</style>\n",
       "<table border=\"1\" class=\"dataframe\">\n",
       "  <thead>\n",
       "    <tr style=\"text-align: right;\">\n",
       "      <th></th>\n",
       "      <th>Number of members</th>\n",
       "    </tr>\n",
       "    <tr>\n",
       "      <th>Cluster Index</th>\n",
       "      <th></th>\n",
       "    </tr>\n",
       "  </thead>\n",
       "  <tbody>\n",
       "    <tr>\n",
       "      <th>0</th>\n",
       "      <td>2195</td>\n",
       "    </tr>\n",
       "    <tr>\n",
       "      <th>1</th>\n",
       "      <td>1470</td>\n",
       "    </tr>\n",
       "    <tr>\n",
       "      <th>2</th>\n",
       "      <td>875</td>\n",
       "    </tr>\n",
       "    <tr>\n",
       "      <th>3</th>\n",
       "      <td>460</td>\n",
       "    </tr>\n",
       "  </tbody>\n",
       "</table>\n",
       "</div>"
      ],
      "text/plain": [
       "               Number of members\n",
       "Cluster Index                   \n",
       "0                           2195\n",
       "1                           1470\n",
       "2                            875\n",
       "3                            460"
      ]
     },
     "execution_count": 55,
     "metadata": {},
     "output_type": "execute_result"
    }
   ],
   "source": [
    "print('Kmeans assignment counts')\n",
    "pd.DataFrame({'Cluster Index': kmeans_pca_counts[0], 'Number of members':kmeans_pca_counts[1]}).set_index('Cluster Index')"
   ]
  },
  {
   "cell_type": "code",
   "execution_count": 56,
   "id": "3f481114",
   "metadata": {},
   "outputs": [
    {
     "name": "stdout",
     "output_type": "stream",
     "text": [
      "Hierarchical assignment counts\n"
     ]
    },
    {
     "data": {
      "text/html": [
       "<div>\n",
       "<style scoped>\n",
       "    .dataframe tbody tr th:only-of-type {\n",
       "        vertical-align: middle;\n",
       "    }\n",
       "\n",
       "    .dataframe tbody tr th {\n",
       "        vertical-align: top;\n",
       "    }\n",
       "\n",
       "    .dataframe thead th {\n",
       "        text-align: right;\n",
       "    }\n",
       "</style>\n",
       "<table border=\"1\" class=\"dataframe\">\n",
       "  <thead>\n",
       "    <tr style=\"text-align: right;\">\n",
       "      <th></th>\n",
       "      <th>Number of members</th>\n",
       "    </tr>\n",
       "    <tr>\n",
       "      <th>Cluster Index</th>\n",
       "      <th></th>\n",
       "    </tr>\n",
       "  </thead>\n",
       "  <tbody>\n",
       "    <tr>\n",
       "      <th>0</th>\n",
       "      <td>2574</td>\n",
       "    </tr>\n",
       "    <tr>\n",
       "      <th>1</th>\n",
       "      <td>835</td>\n",
       "    </tr>\n",
       "    <tr>\n",
       "      <th>2</th>\n",
       "      <td>1591</td>\n",
       "    </tr>\n",
       "  </tbody>\n",
       "</table>\n",
       "</div>"
      ],
      "text/plain": [
       "               Number of members\n",
       "Cluster Index                   \n",
       "0                           2574\n",
       "1                            835\n",
       "2                           1591"
      ]
     },
     "execution_count": 56,
     "metadata": {},
     "output_type": "execute_result"
    }
   ],
   "source": [
    "print('Hierarchical assignment counts')\n",
    "pd.DataFrame({'Cluster Index': hierarchical_pca_counts[0], 'Number of members':hierarchical_pca_counts[1]}).set_index('Cluster Index')"
   ]
  },
  {
   "cell_type": "markdown",
   "id": "04004ff6",
   "metadata": {},
   "source": [
    "### InceptionV3 UMAP Evaluations"
   ]
  },
  {
   "cell_type": "code",
   "execution_count": 57,
   "id": "9c9ab5cb",
   "metadata": {},
   "outputs": [],
   "source": [
    "kmeans_umap_counts = np.unique(kmeans_assignment_umap, return_counts = True)\n",
    "hierarchical_umap_counts = np.unique(Agg_assignment_umap, return_counts = True)"
   ]
  },
  {
   "cell_type": "code",
   "execution_count": 58,
   "id": "4b40bb90",
   "metadata": {},
   "outputs": [
    {
     "name": "stdout",
     "output_type": "stream",
     "text": [
      "Kmeans assignment counts\n"
     ]
    },
    {
     "data": {
      "text/html": [
       "<div>\n",
       "<style scoped>\n",
       "    .dataframe tbody tr th:only-of-type {\n",
       "        vertical-align: middle;\n",
       "    }\n",
       "\n",
       "    .dataframe tbody tr th {\n",
       "        vertical-align: top;\n",
       "    }\n",
       "\n",
       "    .dataframe thead th {\n",
       "        text-align: right;\n",
       "    }\n",
       "</style>\n",
       "<table border=\"1\" class=\"dataframe\">\n",
       "  <thead>\n",
       "    <tr style=\"text-align: right;\">\n",
       "      <th></th>\n",
       "      <th>Number of members</th>\n",
       "    </tr>\n",
       "    <tr>\n",
       "      <th>Cluster Index</th>\n",
       "      <th></th>\n",
       "    </tr>\n",
       "  </thead>\n",
       "  <tbody>\n",
       "    <tr>\n",
       "      <th>0</th>\n",
       "      <td>1846</td>\n",
       "    </tr>\n",
       "    <tr>\n",
       "      <th>1</th>\n",
       "      <td>2079</td>\n",
       "    </tr>\n",
       "    <tr>\n",
       "      <th>2</th>\n",
       "      <td>330</td>\n",
       "    </tr>\n",
       "    <tr>\n",
       "      <th>3</th>\n",
       "      <td>745</td>\n",
       "    </tr>\n",
       "  </tbody>\n",
       "</table>\n",
       "</div>"
      ],
      "text/plain": [
       "               Number of members\n",
       "Cluster Index                   \n",
       "0                           1846\n",
       "1                           2079\n",
       "2                            330\n",
       "3                            745"
      ]
     },
     "execution_count": 58,
     "metadata": {},
     "output_type": "execute_result"
    }
   ],
   "source": [
    "print('Kmeans assignment counts')\n",
    "pd.DataFrame({'Cluster Index': kmeans_umap_counts[0], 'Number of members':kmeans_umap_counts[1]}).set_index('Cluster Index')"
   ]
  },
  {
   "cell_type": "code",
   "execution_count": 59,
   "id": "e8eaddc1",
   "metadata": {},
   "outputs": [
    {
     "name": "stdout",
     "output_type": "stream",
     "text": [
      "Hierarchical assignment counts\n"
     ]
    },
    {
     "data": {
      "text/html": [
       "<div>\n",
       "<style scoped>\n",
       "    .dataframe tbody tr th:only-of-type {\n",
       "        vertical-align: middle;\n",
       "    }\n",
       "\n",
       "    .dataframe tbody tr th {\n",
       "        vertical-align: top;\n",
       "    }\n",
       "\n",
       "    .dataframe thead th {\n",
       "        text-align: right;\n",
       "    }\n",
       "</style>\n",
       "<table border=\"1\" class=\"dataframe\">\n",
       "  <thead>\n",
       "    <tr style=\"text-align: right;\">\n",
       "      <th></th>\n",
       "      <th>Number of members</th>\n",
       "    </tr>\n",
       "    <tr>\n",
       "      <th>Cluster Index</th>\n",
       "      <th></th>\n",
       "    </tr>\n",
       "  </thead>\n",
       "  <tbody>\n",
       "    <tr>\n",
       "      <th>0</th>\n",
       "      <td>1849</td>\n",
       "    </tr>\n",
       "    <tr>\n",
       "      <th>1</th>\n",
       "      <td>766</td>\n",
       "    </tr>\n",
       "    <tr>\n",
       "      <th>2</th>\n",
       "      <td>2055</td>\n",
       "    </tr>\n",
       "    <tr>\n",
       "      <th>3</th>\n",
       "      <td>330</td>\n",
       "    </tr>\n",
       "  </tbody>\n",
       "</table>\n",
       "</div>"
      ],
      "text/plain": [
       "               Number of members\n",
       "Cluster Index                   \n",
       "0                           1849\n",
       "1                            766\n",
       "2                           2055\n",
       "3                            330"
      ]
     },
     "execution_count": 59,
     "metadata": {},
     "output_type": "execute_result"
    }
   ],
   "source": [
    "print('Hierarchical assignment counts')\n",
    "pd.DataFrame({'Cluster Index': hierarchical_umap_counts[0], 'Number of members':hierarchical_umap_counts[1]}).set_index('Cluster Index')"
   ]
  },
  {
   "cell_type": "code",
   "execution_count": 60,
   "id": "5f96ddf6",
   "metadata": {},
   "outputs": [
    {
     "name": "stdout",
     "output_type": "stream",
     "text": [
      "Inception Data\n",
      "-------------------------------------------------\n"
     ]
    },
    {
     "data": {
      "text/html": [
       "<div>\n",
       "<style scoped>\n",
       "    .dataframe tbody tr th:only-of-type {\n",
       "        vertical-align: middle;\n",
       "    }\n",
       "\n",
       "    .dataframe tbody tr th {\n",
       "        vertical-align: top;\n",
       "    }\n",
       "\n",
       "    .dataframe thead th {\n",
       "        text-align: right;\n",
       "    }\n",
       "</style>\n",
       "<table border=\"1\" class=\"dataframe\">\n",
       "  <thead>\n",
       "    <tr style=\"text-align: right;\">\n",
       "      <th></th>\n",
       "      <th>Kmeans PCA</th>\n",
       "      <th>Hierarchical PCA</th>\n",
       "      <th>Kmeans UMAP</th>\n",
       "      <th>Hierarchical UMAP</th>\n",
       "    </tr>\n",
       "    <tr>\n",
       "      <th>Metrics</th>\n",
       "      <th></th>\n",
       "      <th></th>\n",
       "      <th></th>\n",
       "      <th></th>\n",
       "    </tr>\n",
       "  </thead>\n",
       "  <tbody>\n",
       "    <tr>\n",
       "      <th>silhouette</th>\n",
       "      <td>0.257997</td>\n",
       "      <td>0.234432</td>\n",
       "      <td>0.518205</td>\n",
       "      <td>0.514198</td>\n",
       "    </tr>\n",
       "    <tr>\n",
       "      <th>V-measure</th>\n",
       "      <td>0.282043</td>\n",
       "      <td>0.241860</td>\n",
       "      <td>0.337758</td>\n",
       "      <td>0.332236</td>\n",
       "    </tr>\n",
       "  </tbody>\n",
       "</table>\n",
       "</div>"
      ],
      "text/plain": [
       "            Kmeans PCA   Hierarchical PCA  Kmeans UMAP   Hierarchical UMAP\n",
       "Metrics                                                                   \n",
       "silhouette     0.257997          0.234432      0.518205           0.514198\n",
       "V-measure      0.282043          0.241860      0.337758           0.332236"
      ]
     },
     "execution_count": 60,
     "metadata": {},
     "output_type": "execute_result"
    }
   ],
   "source": [
    "kmeans_silhouette_pca = silhouette_score(test_data_pca, kmeans_assignment_pca)\n",
    "agg_silhoette_pca = silhouette_score(test_data_pca, Agg_assignment_pca)\n",
    "kmeans_v_measure_pca = v_measure_score(test_label_pca, kmeans_assignment_pca)\n",
    "agg_v_measure_pca = v_measure_score(test_label_pca, Agg_assignment_pca)\n",
    "\n",
    "\n",
    "kmeans_silhouette_umap = silhouette_score(test_data_umap, kmeans_assignment_umap)\n",
    "agg_silhoette_umap = silhouette_score(test_data_umap, Agg_assignment_umap)\n",
    "kmeans_v_measure_umap = v_measure_score(test_label_umap, kmeans_assignment_umap)\n",
    "agg_v_measure_umap = v_measure_score(test_label_umap, Agg_assignment_umap)\n",
    "\n",
    "print(\"Inception Data\")\n",
    "print(\"-------------------------------------------------\")\n",
    "pd.DataFrame({'Metrics': ['silhouette', 'V-measure'], 'Kmeans PCA ': [kmeans_silhouette_pca, kmeans_v_measure_pca], 'Hierarchical PCA':[agg_silhoette_pca, agg_v_measure_pca], 'Kmeans UMAP ': [kmeans_silhouette_umap, kmeans_v_measure_umap],'Hierarchical UMAP':[agg_silhoette_umap, agg_v_measure_umap]}).set_index('Metrics')"
   ]
  },
  {
   "cell_type": "markdown",
   "id": "48f299aa",
   "metadata": {},
   "source": [
    "* Visualise tissue type percentage in two different clustering configurations"
   ]
  },
  {
   "cell_type": "code",
   "execution_count": 61,
   "id": "b251110e",
   "metadata": {},
   "outputs": [],
   "source": [
    "def calculate_percent(sub_df, attrib):\n",
    "    cnt = sub_df[attrib].count()\n",
    "    output_sub_df = sub_df.groupby(attrib).count()\n",
    "    return (output_sub_df/cnt)"
   ]
  },
  {
   "cell_type": "markdown",
   "id": "e4d4a1bf",
   "metadata": {},
   "source": [
    "#### Visualization for PGE PCA Data"
   ]
  },
  {
   "cell_type": "code",
   "execution_count": 62,
   "id": "934ca1cb",
   "metadata": {},
   "outputs": [
    {
     "name": "stderr",
     "output_type": "stream",
     "text": [
      "<ipython-input-62-e822aeab265f>:27: UserWarning: Matplotlib is currently using module://ipykernel.pylab.backend_inline, which is a non-GUI backend, so cannot show the figure.\n",
      "  f.show()\n"
     ]
    },
    {
     "data": {
      "image/png": "[encoded data removed]",
      "text/plain": [
       "<Figure size 1440x720 with 2 Axes>"
      ]
     },
     "metadata": {
      "needs_background": "light"
     },
     "output_type": "display_data"
    }
   ],
   "source": [
    "resulted_cluster_df = pd.DataFrame({'clusterID': kmeans_assignment_pga_pca_1, 'type': pga_pca_label})\n",
    "label_proportion_df = resulted_cluster_df.groupby(['clusterID']).apply(lambda x: calculate_percent(x,'type')).rename(columns={'clusterID':'type_occurrence_percentage'}).reset_index()\n",
    "pivoted_label_proportion_df = pd.pivot_table(label_proportion_df, index = 'clusterID', columns = 'type', values = 'type_occurrence_percentage')\n",
    "\n",
    "\n",
    "f, axes = plt.subplots(1, 2, figsize=(20,10))\n",
    "number_of_tile_df = resulted_cluster_df.groupby('clusterID')['type'].count().reset_index().rename(columns={'type':'number_of_tile'})\n",
    "df_idx = pivoted_label_proportion_df.index\n",
    "(pivoted_label_proportion_df*100).loc[df_idx].plot.bar(stacked=True, ax = axes[0] )\n",
    "\n",
    "axes[0].set_ylabel('Percentage of tissue type')\n",
    "axes[0].legend(loc='upper right')\n",
    "axes[0].set_title('Cluster configuration by Kmeans PCA')\n",
    "\n",
    "resulted_cluster_df = pd.DataFrame({'clusterID': hierarchical_assignment_pga_pca_1, 'type': pga_pca_label})\n",
    "label_proportion_df = resulted_cluster_df.groupby(['clusterID']).apply(lambda x: calculate_percent(x,'type')).rename(columns={'clusterID':'type_occurrence_percentage'}).reset_index()\n",
    "pivoted_label_proportion_df = pd.pivot_table(label_proportion_df, index = 'clusterID', columns = 'type', values = 'type_occurrence_percentage')\n",
    "\n",
    "\n",
    "number_of_tile_df = resulted_cluster_df.groupby('clusterID')['type'].count().reset_index().rename(columns={'type':'number_of_tile'})\n",
    "df_idx = pivoted_label_proportion_df.index\n",
    "(pivoted_label_proportion_df*100).loc[df_idx].plot.bar(stacked=True, ax = axes[1] )\n",
    "\n",
    "axes[1].set_ylabel('Percentage of tissue type')\n",
    "axes[1].legend(loc='upper right')\n",
    "axes[1].set_title('Cluster configuration by Heirarchical PCA')\n",
    "f.show()"
   ]
  },
  {
   "cell_type": "markdown",
   "id": "c26f089c",
   "metadata": {},
   "source": [
    "#### Visualization for PGE UMAP Data"
   ]
  },
  {
   "cell_type": "code",
   "execution_count": 63,
   "id": "580b7c8e",
   "metadata": {},
   "outputs": [
    {
     "name": "stderr",
     "output_type": "stream",
     "text": [
      "<ipython-input-63-044ffc32e551>:27: UserWarning: Matplotlib is currently using module://ipykernel.pylab.backend_inline, which is a non-GUI backend, so cannot show the figure.\n",
      "  f.show()\n"
     ]
    },
    {
     "data": {
      "image/png": "[encoded data removed]",
      "text/plain": [
       "<Figure size 2160x720 with 2 Axes>"
      ]
     },
     "metadata": {
      "needs_background": "light"
     },
     "output_type": "display_data"
    }
   ],
   "source": [
    "resulted_cluster_df = pd.DataFrame({'clusterID': kmeans_assignment_pga_umap_1, 'type': pga_umap_label})\n",
    "label_proportion_df = resulted_cluster_df.groupby(['clusterID']).apply(lambda x: calculate_percent(x,'type')).rename(columns={'clusterID':'type_occurrence_percentage'}).reset_index()\n",
    "pivoted_label_proportion_df = pd.pivot_table(label_proportion_df, index = 'clusterID', columns = 'type', values = 'type_occurrence_percentage')\n",
    "\n",
    "\n",
    "f, axes = plt.subplots(1, 2, figsize=(30,10))\n",
    "number_of_tile_df = resulted_cluster_df.groupby('clusterID')['type'].count().reset_index().rename(columns={'type':'number_of_tile'})\n",
    "df_idx = pivoted_label_proportion_df.index\n",
    "(pivoted_label_proportion_df*100).loc[df_idx].plot.bar(stacked=True, ax = axes[0] )\n",
    "\n",
    "axes[0].set_ylabel('Percentage of tissue type')\n",
    "axes[0].legend(loc='upper right')\n",
    "axes[0].set_title('Cluster configuration by Kmeans UMAP')\n",
    "\n",
    "resulted_cluster_df = pd.DataFrame({'clusterID': hierarchical_assignment_pga_umap_1, 'type': pga_umap_label})\n",
    "label_proportion_df = resulted_cluster_df.groupby(['clusterID']).apply(lambda x: calculate_percent(x,'type')).rename(columns={'clusterID':'type_occurrence_percentage'}).reset_index()\n",
    "pivoted_label_proportion_df = pd.pivot_table(label_proportion_df, index = 'clusterID', columns = 'type', values = 'type_occurrence_percentage')\n",
    "\n",
    "\n",
    "number_of_tile_df = resulted_cluster_df.groupby('clusterID')['type'].count().reset_index().rename(columns={'type':'number_of_tile'})\n",
    "df_idx = pivoted_label_proportion_df.index\n",
    "(pivoted_label_proportion_df*100).loc[df_idx].plot.bar(stacked=True, ax = axes[1] )\n",
    "\n",
    "axes[1].set_ylabel('Percentage of tissue type')\n",
    "axes[1].legend(loc='upper right')\n",
    "axes[1].set_title('Cluster configuration by Heirarchical UMAP')\n",
    "f.show()"
   ]
  },
  {
   "cell_type": "markdown",
   "id": "7aa5088c",
   "metadata": {},
   "source": [
    "#### Visualization of InceptionV3 PCA Data"
   ]
  },
  {
   "cell_type": "code",
   "execution_count": 64,
   "id": "73ef4760",
   "metadata": {
    "scrolled": true
   },
   "outputs": [
    {
     "name": "stderr",
     "output_type": "stream",
     "text": [
      "<ipython-input-64-3eac2b8340ff>:29: UserWarning: Matplotlib is currently using module://ipykernel.pylab.backend_inline, which is a non-GUI backend, so cannot show the figure.\n",
      "  f.show()\n"
     ]
    },
    {
     "data": {
      "image/png": "[encoded data removed]",
      "text/plain": [
       "<Figure size 1440x360 with 2 Axes>"
      ]
     },
     "metadata": {
      "needs_background": "light"
     },
     "output_type": "display_data"
    }
   ],
   "source": [
    "import pandas as pd\n",
    "import matplotlib.pyplot as plt\n",
    "resulted_cluster_df = pd.DataFrame({'clusterID': kmeans_assignment_pca, 'type': test_label_pca})\n",
    "label_proportion_df = resulted_cluster_df.groupby(['clusterID']).apply(lambda x: calculate_percent(x,'type')).rename(columns={'clusterID':'type_occurrence_percentage'}).reset_index()\n",
    "pivoted_label_proportion_df = pd.pivot_table(label_proportion_df, index = 'clusterID', columns = 'type', values = 'type_occurrence_percentage')\n",
    "\n",
    "\n",
    "f, axes = plt.subplots(1, 2, figsize=(20,5))\n",
    "number_of_tile_df = resulted_cluster_df.groupby('clusterID')['type'].count().reset_index().rename(columns={'type':'number_of_tile'})\n",
    "df_idx = pivoted_label_proportion_df.index\n",
    "(pivoted_label_proportion_df*100).loc[df_idx].plot.bar(stacked=True, ax = axes[0] )\n",
    "\n",
    "axes[0].set_ylabel('Percentage of tissue type')\n",
    "axes[0].legend(loc='upper right')\n",
    "axes[0].set_title('Cluster configuration by Kmeans PCA')\n",
    "\n",
    "resulted_cluster_df = pd.DataFrame({'clusterID': Agg_assignment_pca, 'type': test_label_pca})\n",
    "label_proportion_df = resulted_cluster_df.groupby(['clusterID']).apply(lambda x: calculate_percent(x,'type')).rename(columns={'clusterID':'type_occurrence_percentage'}).reset_index()\n",
    "pivoted_label_proportion_df = pd.pivot_table(label_proportion_df, index = 'clusterID', columns = 'type', values = 'type_occurrence_percentage')\n",
    "\n",
    "\n",
    "number_of_tile_df = resulted_cluster_df.groupby('clusterID')['type'].count().reset_index().rename(columns={'type':'number_of_tile'})\n",
    "df_idx = pivoted_label_proportion_df.index\n",
    "(pivoted_label_proportion_df*100).loc[df_idx].plot.bar(stacked=True, ax = axes[1] )\n",
    "\n",
    "axes[1].set_ylabel('Percentage of tissue type')\n",
    "axes[1].legend(loc='upper right')\n",
    "axes[1].set_title('Cluster configuration by Hierarchial PCA')\n",
    "f.show()"
   ]
  },
  {
   "cell_type": "markdown",
   "id": "caa141e2",
   "metadata": {},
   "source": [
    "#### Visualization of InceptionV3 UMAP Data"
   ]
  },
  {
   "cell_type": "code",
   "execution_count": 65,
   "id": "6f74042d",
   "metadata": {},
   "outputs": [
    {
     "name": "stderr",
     "output_type": "stream",
     "text": [
      "<ipython-input-65-e584f2a8fc67>:29: UserWarning: Matplotlib is currently using module://ipykernel.pylab.backend_inline, which is a non-GUI backend, so cannot show the figure.\n",
      "  f.show()\n"
     ]
    },
    {
     "data": {
      "image/png": "[encoded data removed]",
      "text/plain": [
       "<Figure size 1440x360 with 2 Axes>"
      ]
     },
     "metadata": {
      "needs_background": "light"
     },
     "output_type": "display_data"
    }
   ],
   "source": [
    "import pandas as pd\n",
    "import matplotlib.pyplot as plt\n",
    "resulted_cluster_df = pd.DataFrame({'clusterID': kmeans_assignment_umap, 'type': test_label_umap})\n",
    "label_proportion_df = resulted_cluster_df.groupby(['clusterID']).apply(lambda x: calculate_percent(x,'type')).rename(columns={'clusterID':'type_occurrence_percentage'}).reset_index()\n",
    "pivoted_label_proportion_df = pd.pivot_table(label_proportion_df, index = 'clusterID', columns = 'type', values = 'type_occurrence_percentage')\n",
    "\n",
    "\n",
    "f, axes = plt.subplots(1, 2, figsize=(20,5))\n",
    "number_of_tile_df = resulted_cluster_df.groupby('clusterID')['type'].count().reset_index().rename(columns={'type':'number_of_tile'})\n",
    "df_idx = pivoted_label_proportion_df.index\n",
    "(pivoted_label_proportion_df*100).loc[df_idx].plot.bar(stacked=True, ax = axes[0] )\n",
    "\n",
    "axes[0].set_ylabel('Percentage of tissue type')\n",
    "axes[0].legend(loc='upper right')\n",
    "axes[0].set_title('Cluster configuration by Kmeans UMAP')\n",
    "\n",
    "resulted_cluster_df = pd.DataFrame({'clusterID': Agg_assignment_umap, 'type': test_label_umap})\n",
    "label_proportion_df = resulted_cluster_df.groupby(['clusterID']).apply(lambda x: calculate_percent(x,'type')).rename(columns={'clusterID':'type_occurrence_percentage'}).reset_index()\n",
    "pivoted_label_proportion_df = pd.pivot_table(label_proportion_df, index = 'clusterID', columns = 'type', values = 'type_occurrence_percentage')\n",
    "\n",
    "\n",
    "number_of_tile_df = resulted_cluster_df.groupby('clusterID')['type'].count().reset_index().rename(columns={'type':'number_of_tile'})\n",
    "df_idx = pivoted_label_proportion_df.index\n",
    "(pivoted_label_proportion_df*100).loc[df_idx].plot.bar(stacked=True, ax = axes[1] )\n",
    "\n",
    "axes[1].set_ylabel('Percentage of tissue type')\n",
    "axes[1].legend(loc='upper right')\n",
    "axes[1].set_title('Cluster configuration by Hierarchical UMAP')\n",
    "f.show()"
   ]
  },
  {
   "cell_type": "markdown",
   "id": "cf5e82c8",
   "metadata": {},
   "source": [
    "#### Considering the results we got for PathologyGAN and InceptionV3 we can see that K-Means has better silhouette and V-measure scores when compared to Hierarchical Clustering."
   ]
  },
  {
   "cell_type": "code",
   "execution_count": null,
   "id": "5bccf429",
   "metadata": {},
   "outputs": [],
   "source": []
  }
 ],
 "metadata": {
  "kernelspec": {
   "display_name": "Python 3",
   "language": "python",
   "name": "python3"
  },
  "language_info": {
   "codemirror_mode": {
    "name": "ipython",
    "version": 3
   },
   "file_extension": ".py",
   "mimetype": "text/x-python",
   "name": "python",
   "nbconvert_exporter": "python",
   "pygments_lexer": "ipython3",
   "version": "3.8.8"
  }
 },
 "nbformat": 4,
 "nbformat_minor": 5
}
